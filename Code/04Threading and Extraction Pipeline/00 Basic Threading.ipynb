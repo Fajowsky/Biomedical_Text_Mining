{
 "cells": [
  {
   "cell_type": "code",
   "execution_count": 1,
   "metadata": {},
   "outputs": [],
   "source": [
    "import time\n",
    "import datetime\n",
    "import threading\n",
    "\n",
    "\n"
   ]
  },
  {
   "cell_type": "code",
   "execution_count": 2,
   "metadata": {},
   "outputs": [],
   "source": [
    "def countSeconds():\n",
    "    while True:\n",
    "        print(datetime.datetime.today())\n",
    "        time.sleep(1)\n",
    "        \n",
    "def countSlowSeconds():\n",
    "    while True:\n",
    "        print(\"SLOW\")\n",
    "        time.sleep(2)"
   ]
  },
  {
   "cell_type": "code",
   "execution_count": 3,
   "metadata": {},
   "outputs": [
    {
     "name": "stdout",
     "output_type": "stream",
     "text": [
      "2020-05-03 12:14:43.431412\n",
      "SLOW\n",
      "2020-05-03 12:14:44.455421\n",
      "SLOW\n",
      "2020-05-03 12:14:45.475150\n",
      "2020-05-03 12:14:46.495197\n"
     ]
    }
   ],
   "source": [
    "threadRight = threading.Thread(target = countSeconds, name = \"clock\")\n",
    "\n",
    "threadLeft = threading.Thread(target = countSlowSeconds, name = \"slowerClock\")\n",
    "\n",
    "threadRight.daemon = True\n",
    "threadRight.start()\n",
    "\n",
    "threadLeft.daemon = True\n",
    "threadLeft.start()"
   ]
  }
 ],
 "metadata": {
  "kernelspec": {
   "display_name": "Python 3",
   "language": "python",
   "name": "python3"
  },
  "language_info": {
   "codemirror_mode": {
    "name": "ipython",
    "version": 3
   },
   "file_extension": ".py",
   "mimetype": "text/x-python",
   "name": "python",
   "nbconvert_exporter": "python",
   "pygments_lexer": "ipython3",
   "version": "3.7.4"
  }
 },
 "nbformat": 4,
 "nbformat_minor": 2
}
