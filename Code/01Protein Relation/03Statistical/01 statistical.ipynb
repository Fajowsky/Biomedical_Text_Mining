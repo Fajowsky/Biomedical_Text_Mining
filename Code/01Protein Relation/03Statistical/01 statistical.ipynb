{
 "cells": [
  {
   "cell_type": "markdown",
   "metadata": {},
   "source": [
    "<H1>Dataset Loading and Interaction Extraction</h1>"
   ]
  },
  {
   "cell_type": "code",
   "execution_count": 113,
   "metadata": {},
   "outputs": [],
   "source": [
    "class Sentence:\n",
    "    def __init__(self):\n",
    "        self.text = \"\"\n",
    "        self.proteins = []\n",
    "        self.interactions = []\n",
    "        self.reconstructedText = \"\"\n",
    "        self.words = []\n",
    "        self.valid = False\n",
    "\n",
    "    def show(self):\n",
    "        print(self.text)\n",
    "        print(self.proteins)\n",
    "        if len(self.interactions):\n",
    "            for i in self.interactions:\n",
    "                print(i)\n",
    "        print()\n",
    "        \n",
    "        \n",
    "    def processText(self):\n",
    "        #self.text = self.text.replace(\"_/_\",\"_ _\")\n",
    "        #self.text = self.text.replace(\"_:_\",\"_ _\")\n",
    "        #self.text = self.text.replace(\"_-_\",\"_ _\")\n",
    "        self.text = re.sub(\"(\\_[^_]_)\", \"_ _\", self.text)#regexp to remove things like _:_\n",
    "        self.text = self.text.replace(\"(_\",\"_\")\n",
    "        self.text = self.text.replace(\"_)\",\"_\")\n",
    "    \n",
    "    def checkValidity(self):\n",
    "        count = 0\n",
    "        for w in range(len(self.words)):\n",
    "            if \"__\" in self.words[w]:\n",
    "                count = count +1\n",
    "        \n",
    "        if count == len(self.proteins):\n",
    "            self.valid = True\n",
    "            #print(self.valid)\n",
    "        \n",
    "    \n",
    "    def reconstructText(self):\n",
    "        self.words = self.text.split(\" \")\n",
    "        self.checkValidity()\n",
    "        #print(self.words)\n",
    "        if self.valid:\n",
    "            p=0\n",
    "            for w in range(len(self.words)):\n",
    "                if \"__\" in self.words[w]:\n",
    "                    self.words[w] = self.proteins[p]\n",
    "                    #self.words[w] = \"PROTEIN\"+str(p)\n",
    "                    p=p+1\n",
    "            #print(self.words)\n",
    "            #print()\n",
    "        \n",
    "    def reassembleSentence(self):\n",
    "        print(\" \".join(self.words))\n",
    "        \n",
    "    def fullProcess(self):\n",
    "        self.processText()\n",
    "        self.reconstructText()\n",
    "        "
   ]
  },
  {
   "cell_type": "code",
   "execution_count": 114,
   "metadata": {},
   "outputs": [
    {
     "name": "stdout",
     "output_type": "stream",
     "text": [
      "2245\n",
      "529\n"
     ]
    }
   ],
   "source": [
    "import pickle\n",
    "\n",
    "with open('datasetTrain.pkl', 'rb') as input1:\n",
    "    trainSetRaw = pickle.load(input1)\n",
    "    \n",
    "with open('datasetTest.pkl', 'rb') as input2:    \n",
    "    testSetRaw = pickle.load(input2)\n",
    "    \n",
    "try:\n",
    "    print(len(trainSetRaw))\n",
    "    print(len(testSetRaw))\n",
    "except NameError:\n",
    "    print(\"nope\")   "
   ]
  },
  {
   "cell_type": "code",
   "execution_count": 115,
   "metadata": {},
   "outputs": [],
   "source": [
    "def findMaxWords(inputList):\n",
    "    maxwords = -1 \n",
    "    for i in inputList:\n",
    "        if len(i.words)>maxwords:\n",
    "            maxwords = len(i.words)\n",
    "    print(maxwords)\n",
    "    "
   ]
  },
  {
   "cell_type": "code",
   "execution_count": 116,
   "metadata": {
    "scrolled": true
   },
   "outputs": [
    {
     "name": "stdout",
     "output_type": "stream",
     "text": [
      "93\n",
      "74\n"
     ]
    }
   ],
   "source": [
    "findMaxWords(trainSetRaw)\n",
    "findMaxWords(testSetRaw)"
   ]
  },
  {
   "cell_type": "code",
   "execution_count": 117,
   "metadata": {},
   "outputs": [
    {
     "name": "stdout",
     "output_type": "stream",
     "text": [
      "We start out with\n",
      "2245 training examples\n",
      "529 test examples\n",
      "\n",
      "mean 24.980894015861573\n",
      "std 10.856406734698178\n",
      "80 words: 2770\n",
      "70 words: 2766\n",
      "60 words: 2751\n",
      "50 words: 2697\n",
      "48 words: 2674\n",
      "40 words: 2544\n",
      "30 words: 2086\n",
      "\n",
      "Selecting for under 48 words we are left with\n",
      "2166 training examples\n",
      "508 test examples\n"
     ]
    },
    {
     "data": {
      "image/png": "[encoded data removed]",
      "text/plain": [
       "<Figure size 432x288 with 1 Axes>"
      ]
     },
     "metadata": {
      "needs_background": "light"
     },
     "output_type": "display_data"
    }
   ],
   "source": [
    "print(\"We start out with\")\n",
    "\n",
    "print(len(trainSetRaw),\"training examples\")\n",
    "print(len(testSetRaw),\"test examples\")\n",
    "\n",
    "print()\n",
    "\n",
    "allSet = [len(x.words) for x in trainSetRaw+testSetRaw]\n",
    "\n",
    "from matplotlib import pyplot as plt \n",
    "import numpy as np  \n",
    "\n",
    "print(\"mean\",np.mean(allSet))\n",
    "\n",
    "print(\"std\",np.std(allSet))\n",
    "\n",
    "plt.hist(allSet)\n",
    "\n",
    "\n",
    "\n",
    "selectedSet = [x for x in trainSetRaw+testSetRaw if len(x.words)<=80 ]\n",
    "\n",
    "print(\"80 words:\",len(selectedSet))\n",
    "\n",
    "\n",
    "selectedSet = [x for x in trainSetRaw+testSetRaw if len(x.words)<=70 ]\n",
    "\n",
    "print(\"70 words:\",len(selectedSet))\n",
    "\n",
    "selectedSet = [x for x in trainSetRaw+testSetRaw if len(x.words)<=60 ]\n",
    "\n",
    "print(\"60 words:\",len(selectedSet))\n",
    "\n",
    "\n",
    "selectedSet = [x for x in trainSetRaw+testSetRaw if len(x.words)<=50 ]\n",
    "\n",
    "print(\"50 words:\",len(selectedSet))\n",
    "\n",
    "selectedSet = [x for x in trainSetRaw+testSetRaw if len(x.words)<=48 ]\n",
    "\n",
    "print(\"48 words:\",len(selectedSet))\n",
    "\n",
    "\n",
    "selectedSet = [x for x in trainSetRaw+testSetRaw if len(x.words)<=40 ]\n",
    "\n",
    "print(\"40 words:\",len(selectedSet))\n",
    "\n",
    "selectedSet = [x for x in trainSetRaw+testSetRaw if len(x.words)<=30 ]\n",
    "\n",
    "print(\"30 words:\",len(selectedSet))\n",
    "\n",
    "\n",
    "\n",
    "trainSetRaw = [x for x in trainSetRaw if len(x.words)<=48]\n",
    "testSetRaw = [x for x in testSetRaw if len(x.words)<=48]\n",
    "\n",
    "\n",
    "print()\n",
    "print(\"Selecting for under 48 words we are left with\")\n",
    "print(len(trainSetRaw),\"training examples\")\n",
    "print(len(testSetRaw),\"test examples\")"
   ]
  },
  {
   "cell_type": "code",
   "execution_count": 118,
   "metadata": {},
   "outputs": [
    {
     "name": "stdout",
     "output_type": "stream",
     "text": [
      "10238\n",
      "10238\n"
     ]
    }
   ],
   "source": [
    "trainSet = []\n",
    "trainLabel = []\n",
    "\n",
    "for example in trainSetRaw:\n",
    "    for interaction in example.interactions:\n",
    "        #print(example.words)\n",
    "        #print(interaction)        \n",
    "        sentence = interaction[0] + \" \" + interaction[1] + \" \" + \" \".join(example.words)\n",
    "        #print(sentence)\n",
    "        #print(type(sentence))\n",
    "        trainSet = trainSet + [sentence]\n",
    "        if interaction[2] == \"True\":\n",
    "            trainLabel = trainLabel + [1]\n",
    "            #print(\"HIT\")\n",
    "        else:\n",
    "            trainLabel = trainLabel + [0]\n",
    "            #print(\"MISS\")\n",
    "        #print()\n",
    "        \n",
    "print(len(trainSet))\n",
    "print(len(trainLabel))"
   ]
  },
  {
   "cell_type": "code",
   "execution_count": 119,
   "metadata": {},
   "outputs": [
    {
     "name": "stdout",
     "output_type": "stream",
     "text": [
      "2274\n",
      "2274\n"
     ]
    }
   ],
   "source": [
    "testSet = []\n",
    "testLabel = []\n",
    "\n",
    "for example in testSetRaw:\n",
    "    for interaction in example.interactions:\n",
    "        #print(example.words)\n",
    "        #print(interaction)        \n",
    "        sentence = interaction[0] + \" \" + interaction[1] + \" \" + \" \".join(example.words)\n",
    "        #print(sentence)\n",
    "        #print(type(sentence))\n",
    "        testSet = testSet + [sentence]\n",
    "        if interaction[2] == \"True\":\n",
    "            testLabel = testLabel + [1]\n",
    "            #print(\"HIT\")\n",
    "        else:\n",
    "            testLabel = testLabel + [0]\n",
    "            #print(\"MISS\")\n",
    "        #print()\n",
    "        \n",
    "print(len(testSet))\n",
    "print(len(testLabel))"
   ]
  }
 ],
 "metadata": {
  "kernelspec": {
   "display_name": "Python 3",
   "language": "python",
   "name": "python3"
  },
  "language_info": {
   "codemirror_mode": {
    "name": "ipython",
    "version": 3
   },
   "file_extension": ".py",
   "mimetype": "text/x-python",
   "name": "python",
   "nbconvert_exporter": "python",
   "pygments_lexer": "ipython3",
   "version": "3.7.4"
  }
 },
 "nbformat": 4,
 "nbformat_minor": 2
}
